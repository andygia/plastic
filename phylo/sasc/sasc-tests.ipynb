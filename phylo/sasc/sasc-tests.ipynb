{
 "cells": [
  {
   "cell_type": "markdown",
   "metadata": {},
   "source": [
    "## Test with dummy input just to see if the marshalling and unmarshalling work properly"
   ]
  },
  {
   "cell_type": "code",
   "execution_count": 1,
   "metadata": {},
   "outputs": [],
   "source": [
    "import sasc as sc"
   ]
  },
  {
   "cell_type": "code",
   "execution_count": 2,
   "metadata": {},
   "outputs": [],
   "source": [
    "#this matrix will produce a linear tree with structure (R -> m1 -> m2)\n",
    "mutations_matrix = [[1, 1], \n",
    "                    [1, 0]]\n",
    "mutation_labels = ['m1', 'm2']\n",
    "cell_labels = ['c1', 'c2']\n",
    "alphas = [0.2, 0.2]\n",
    "beta = 0.0001\n",
    "gammas = [0.1, 0.2]\n",
    "single_alpha = True\n",
    "single_gamma = False\n",
    "el_a_variance = 0.0001\n",
    "el_b_variance = 0.0001\n",
    "el_g_variance = 0.0001\n",
    "k = 1\n",
    "max_deletions = 69\n",
    "repetitions = 5\n",
    "force_monoclonal = False\n",
    "start_temp = 100000\n",
    "cooling_rate = 0.1\n",
    "cores = 16\n",
    "out = sc.compute(\n",
    "    mutations_matrix,\n",
    "    mutation_labels,\n",
    "    cell_labels,\n",
    "    alphas,\n",
    "    beta,\n",
    "    gammas,\n",
    "    single_alpha,\n",
    "    single_gamma,\n",
    "    el_a_variance,\n",
    "    el_b_variance,\n",
    "    el_g_variance,\n",
    "    k,\n",
    "    max_deletions,\n",
    "    repetitions,\n",
    "    force_monoclonal,\n",
    "    start_temp,\n",
    "    cooling_rate,\n",
    "    cores\n",
    ")"
   ]
  },
  {
   "cell_type": "code",
   "execution_count": 3,
   "metadata": {},
   "outputs": [
    {
     "name": "stdout",
     "output_type": "stream",
     "text": [
      "[(0, 1), (1, 2)]\n"
     ]
    }
   ],
   "source": [
    "print(out[0].edges())"
   ]
  },
  {
   "cell_type": "code",
   "execution_count": 4,
   "metadata": {},
   "outputs": [
    {
     "name": "stdout",
     "output_type": "stream",
     "text": [
      "0: {'label': 'germline', 'loss': 0, 'mutation_index': -1}\n",
      "1: {'label': 'm1', 'loss': 0, 'mutation_index': 0}\n",
      "2: {'label': 'm2', 'loss': 0, 'mutation_index': 1}\n"
     ]
    }
   ],
   "source": [
    "for i in range(len(out[0].nodes())):\n",
    "    print(str(i) + \": \" + str(out[0].nodes()[i]))"
   ]
  },
  {
   "cell_type": "code",
   "execution_count": null,
   "metadata": {},
   "outputs": [],
   "source": []
  }
 ],
 "metadata": {
  "kernelspec": {
   "display_name": "Python 3",
   "language": "python",
   "name": "python3"
  },
  "language_info": {
   "codemirror_mode": {
    "name": "ipython",
    "version": 3
   },
   "file_extension": ".py",
   "mimetype": "text/x-python",
   "name": "python",
   "nbconvert_exporter": "python",
   "pygments_lexer": "ipython3",
   "version": "3.8.5"
  }
 },
 "nbformat": 4,
 "nbformat_minor": 4
}
